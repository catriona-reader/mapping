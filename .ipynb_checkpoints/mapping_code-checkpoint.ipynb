{
 "cells": [
  {
   "cell_type": "code",
   "execution_count": 1,
   "metadata": {},
   "outputs": [],
   "source": [
    "import numpy as np\n",
    "import pandas as pd \n",
    "import matplotlib.pyplot as plt\n",
    "from matplotlib import gridspec\n",
    "import matplotlib.patches as mpatches\n",
    "\n",
    "import shapefile as shp\n",
    "\n",
    "import pydotplus\n",
    "from ipywidgets import *\n",
    "from IPython.display import display\n",
    "from IPython.display import Image\n",
    "\n",
    "\n",
    "from tqdm import tqdm_notebook\n"
   ]
  },
  {
   "cell_type": "code",
   "execution_count": null,
   "metadata": {},
   "outputs": [],
   "source": [
    "#maybe it makes more sense to start from a dataframe? With the data I want to plot? "
   ]
  },
  {
   "cell_type": "code",
   "execution_count": 2,
   "metadata": {},
   "outputs": [],
   "source": [
    "path = './datasets/LA_2017_Full_Clipped_Boundaries_in_Great_Britain/Local_Authority_Districts_December_2017_Full_Clipped_Boundaries_in_Great_Britain.shp'\n",
    "sf = shp.Reader(path)"
   ]
  },
  {
   "cell_type": "code",
   "execution_count": 3,
   "metadata": {},
   "outputs": [],
   "source": [
    "def read_shapefile(sf):\n",
    "    \"\"\"\n",
    "    Read a shapefile into a Pandas dataframe with a 'coords' \n",
    "    column holding the geometry information. This uses the pyshp\n",
    "    package\n",
    "    \"\"\"\n",
    "    fields = [x[0] for x in sf.fields][1:]\n",
    "    records = sf.records()\n",
    "    shps = [s.points for s in sf.shapes()]\n",
    "    df = pd.DataFrame(columns=fields, data=records)\n",
    "    df = df.assign(coords=shps)\n",
    "    return df"
   ]
  },
  {
   "cell_type": "code",
   "execution_count": 4,
   "metadata": {},
   "outputs": [
    {
     "data": {
      "text/html": [
       "<div>\n",
       "<style scoped>\n",
       "    .dataframe tbody tr th:only-of-type {\n",
       "        vertical-align: middle;\n",
       "    }\n",
       "\n",
       "    .dataframe tbody tr th {\n",
       "        vertical-align: top;\n",
       "    }\n",
       "\n",
       "    .dataframe thead th {\n",
       "        text-align: right;\n",
       "    }\n",
       "</style>\n",
       "<table border=\"1\" class=\"dataframe\">\n",
       "  <thead>\n",
       "    <tr style=\"text-align: right;\">\n",
       "      <th></th>\n",
       "      <th>objectid</th>\n",
       "      <th>lad17cd</th>\n",
       "      <th>lad17nm</th>\n",
       "      <th>lad17nmw</th>\n",
       "      <th>bng_e</th>\n",
       "      <th>bng_n</th>\n",
       "      <th>long</th>\n",
       "      <th>lat</th>\n",
       "      <th>st_areasha</th>\n",
       "      <th>st_lengths</th>\n",
       "      <th>coords</th>\n",
       "    </tr>\n",
       "  </thead>\n",
       "  <tbody>\n",
       "    <tr>\n",
       "      <th>0</th>\n",
       "      <td>1</td>\n",
       "      <td>E06000001</td>\n",
       "      <td>Hartlepool</td>\n",
       "      <td></td>\n",
       "      <td>447157</td>\n",
       "      <td>531476</td>\n",
       "      <td>-1.27023</td>\n",
       "      <td>54.676159</td>\n",
       "      <td>9.355951e+07</td>\n",
       "      <td>71707.407523</td>\n",
       "      <td>[(447213.8995000003, 537036.1042999998), (4472...</td>\n",
       "    </tr>\n",
       "    <tr>\n",
       "      <th>1</th>\n",
       "      <td>2</td>\n",
       "      <td>E06000002</td>\n",
       "      <td>Middlesbrough</td>\n",
       "      <td></td>\n",
       "      <td>451141</td>\n",
       "      <td>516887</td>\n",
       "      <td>-1.21099</td>\n",
       "      <td>54.544670</td>\n",
       "      <td>5.388858e+07</td>\n",
       "      <td>43840.866561</td>\n",
       "      <td>[(448958.9007000001, 521835.6952999998), (4490...</td>\n",
       "    </tr>\n",
       "    <tr>\n",
       "      <th>2</th>\n",
       "      <td>3</td>\n",
       "      <td>E06000003</td>\n",
       "      <td>Redcar and Cleveland</td>\n",
       "      <td></td>\n",
       "      <td>464359</td>\n",
       "      <td>519597</td>\n",
       "      <td>-1.00611</td>\n",
       "      <td>54.567520</td>\n",
       "      <td>2.448203e+08</td>\n",
       "      <td>97993.391012</td>\n",
       "      <td>[(455752.6002000002, 528195.7048000004), (4557...</td>\n",
       "    </tr>\n",
       "    <tr>\n",
       "      <th>3</th>\n",
       "      <td>4</td>\n",
       "      <td>E06000004</td>\n",
       "      <td>Stockton-on-Tees</td>\n",
       "      <td></td>\n",
       "      <td>444937</td>\n",
       "      <td>518183</td>\n",
       "      <td>-1.30669</td>\n",
       "      <td>54.556911</td>\n",
       "      <td>2.049622e+08</td>\n",
       "      <td>119581.595543</td>\n",
       "      <td>[(444157.00189999957, 527956.3033000007), (444...</td>\n",
       "    </tr>\n",
       "    <tr>\n",
       "      <th>4</th>\n",
       "      <td>5</td>\n",
       "      <td>E06000005</td>\n",
       "      <td>Darlington</td>\n",
       "      <td></td>\n",
       "      <td>428029</td>\n",
       "      <td>515649</td>\n",
       "      <td>-1.56835</td>\n",
       "      <td>54.535351</td>\n",
       "      <td>1.974757e+08</td>\n",
       "      <td>107206.401694</td>\n",
       "      <td>[(423496.60199999996, 524724.2984999996), (423...</td>\n",
       "    </tr>\n",
       "  </tbody>\n",
       "</table>\n",
       "</div>"
      ],
      "text/plain": [
       "   objectid    lad17cd               lad17nm lad17nmw   bng_e   bng_n  \\\n",
       "0         1  E06000001            Hartlepool           447157  531476   \n",
       "1         2  E06000002         Middlesbrough           451141  516887   \n",
       "2         3  E06000003  Redcar and Cleveland           464359  519597   \n",
       "3         4  E06000004      Stockton-on-Tees           444937  518183   \n",
       "4         5  E06000005            Darlington           428029  515649   \n",
       "\n",
       "      long        lat    st_areasha     st_lengths  \\\n",
       "0 -1.27023  54.676159  9.355951e+07   71707.407523   \n",
       "1 -1.21099  54.544670  5.388858e+07   43840.866561   \n",
       "2 -1.00611  54.567520  2.448203e+08   97993.391012   \n",
       "3 -1.30669  54.556911  2.049622e+08  119581.595543   \n",
       "4 -1.56835  54.535351  1.974757e+08  107206.401694   \n",
       "\n",
       "                                              coords  \n",
       "0  [(447213.8995000003, 537036.1042999998), (4472...  \n",
       "1  [(448958.9007000001, 521835.6952999998), (4490...  \n",
       "2  [(455752.6002000002, 528195.7048000004), (4557...  \n",
       "3  [(444157.00189999957, 527956.3033000007), (444...  \n",
       "4  [(423496.60199999996, 524724.2984999996), (423...  "
      ]
     },
     "execution_count": 4,
     "metadata": {},
     "output_type": "execute_result"
    }
   ],
   "source": [
    "df = read_shapefile(sf)\n",
    "df.head()"
   ]
  },
  {
   "cell_type": "code",
   "execution_count": 5,
   "metadata": {},
   "outputs": [
    {
     "data": {
      "text/html": [
       "<div>\n",
       "<style scoped>\n",
       "    .dataframe tbody tr th:only-of-type {\n",
       "        vertical-align: middle;\n",
       "    }\n",
       "\n",
       "    .dataframe tbody tr th {\n",
       "        vertical-align: top;\n",
       "    }\n",
       "\n",
       "    .dataframe thead th {\n",
       "        text-align: right;\n",
       "    }\n",
       "</style>\n",
       "<table border=\"1\" class=\"dataframe\">\n",
       "  <thead>\n",
       "    <tr style=\"text-align: right;\">\n",
       "      <th></th>\n",
       "      <th>Area Name</th>\n",
       "      <th>Male Life expectancy at birth</th>\n",
       "      <th>Female Life expectancy at birth</th>\n",
       "    </tr>\n",
       "  </thead>\n",
       "  <tbody>\n",
       "    <tr>\n",
       "      <th>0</th>\n",
       "      <td>England (non-resident deaths excluded)</td>\n",
       "      <td>79.2</td>\n",
       "      <td>83.0</td>\n",
       "    </tr>\n",
       "    <tr>\n",
       "      <th>1</th>\n",
       "      <td>Barking and Dagenham</td>\n",
       "      <td>77.6</td>\n",
       "      <td>82.0</td>\n",
       "    </tr>\n",
       "    <tr>\n",
       "      <th>2</th>\n",
       "      <td>Barnet</td>\n",
       "      <td>81.4</td>\n",
       "      <td>84.5</td>\n",
       "    </tr>\n",
       "    <tr>\n",
       "      <th>3</th>\n",
       "      <td>Bexley</td>\n",
       "      <td>80.3</td>\n",
       "      <td>84.4</td>\n",
       "    </tr>\n",
       "    <tr>\n",
       "      <th>4</th>\n",
       "      <td>Brent</td>\n",
       "      <td>79.9</td>\n",
       "      <td>84.5</td>\n",
       "    </tr>\n",
       "  </tbody>\n",
       "</table>\n",
       "</div>"
      ],
      "text/plain": [
       "                                Area Name  Male Life expectancy at birth   \\\n",
       "0  England (non-resident deaths excluded)                            79.2   \n",
       "1                    Barking and Dagenham                            77.6   \n",
       "2                                  Barnet                            81.4   \n",
       "3                                  Bexley                            80.3   \n",
       "4                                   Brent                            79.9   \n",
       "\n",
       "   Female Life expectancy at birth   \n",
       "0                              83.0  \n",
       "1                              82.0  \n",
       "2                              84.5  \n",
       "3                              84.4  \n",
       "4                              84.5  "
      ]
     },
     "execution_count": 5,
     "metadata": {},
     "output_type": "execute_result"
    }
   ],
   "source": [
    "data = pd.read_csv('./datasets/life_expectancy_at_birth_LA.csv')\n",
    "data = data[['Area Name', 'Male Life expectancy at birth ', 'Female Life expectancy at birth ']]\n",
    "data.head()"
   ]
  },
  {
   "cell_type": "code",
   "execution_count": 109,
   "metadata": {},
   "outputs": [],
   "source": [
    "combined = pd.merge(df, data, left_on = 'lad17nm', right_on='Area Name')"
   ]
  },
  {
   "cell_type": "code",
   "execution_count": 133,
   "metadata": {},
   "outputs": [
    {
     "data": {
      "text/plain": [
       "Index(['objectid', 'lad17cd', 'lad17nm', 'lad17nmw', 'bng_e', 'bng_n', 'long',\n",
       "       'lat', 'st_areasha', 'st_lengths', 'coords', 'Area Name',\n",
       "       'Male Life expectancy at birth ', 'Female Life expectancy at birth '],\n",
       "      dtype='object')"
      ]
     },
     "execution_count": 133,
     "metadata": {},
     "output_type": "execute_result"
    }
   ],
   "source": [
    "combined.columns"
   ]
  },
  {
   "cell_type": "code",
   "execution_count": 135,
   "metadata": {},
   "outputs": [
    {
     "data": {
      "text/plain": [
       "objectid                              int64\n",
       "lad17cd                              object\n",
       "lad17nm                              object\n",
       "lad17nmw                             object\n",
       "bng_e                                 int64\n",
       "bng_n                                 int64\n",
       "long                                float64\n",
       "lat                                 float64\n",
       "st_areasha                          float64\n",
       "st_lengths                          float64\n",
       "coords                               object\n",
       "Area Name                            object\n",
       "Male Life expectancy at birth       float64\n",
       "Female Life expectancy at birth     float64\n",
       "dtype: object"
      ]
     },
     "execution_count": 135,
     "metadata": {},
     "output_type": "execute_result"
    }
   ],
   "source": [
    "combined.dtypes"
   ]
  },
  {
   "cell_type": "code",
   "execution_count": 120,
   "metadata": {},
   "outputs": [
    {
     "data": {
      "text/html": [
       "<div>\n",
       "<style scoped>\n",
       "    .dataframe tbody tr th:only-of-type {\n",
       "        vertical-align: middle;\n",
       "    }\n",
       "\n",
       "    .dataframe tbody tr th {\n",
       "        vertical-align: top;\n",
       "    }\n",
       "\n",
       "    .dataframe thead th {\n",
       "        text-align: right;\n",
       "    }\n",
       "</style>\n",
       "<table border=\"1\" class=\"dataframe\">\n",
       "  <thead>\n",
       "    <tr style=\"text-align: right;\">\n",
       "      <th></th>\n",
       "      <th>objectid</th>\n",
       "      <th>lad17cd</th>\n",
       "      <th>lad17nm</th>\n",
       "      <th>lad17nmw</th>\n",
       "      <th>bng_e</th>\n",
       "      <th>bng_n</th>\n",
       "      <th>long</th>\n",
       "      <th>lat</th>\n",
       "      <th>st_areasha</th>\n",
       "      <th>st_lengths</th>\n",
       "      <th>coords</th>\n",
       "      <th>Area Name</th>\n",
       "      <th>Male Life expectancy at birth</th>\n",
       "      <th>Female Life expectancy at birth</th>\n",
       "    </tr>\n",
       "  </thead>\n",
       "  <tbody>\n",
       "    <tr>\n",
       "      <th>0</th>\n",
       "      <td>1</td>\n",
       "      <td>E06000001</td>\n",
       "      <td>Hartlepool</td>\n",
       "      <td></td>\n",
       "      <td>447157</td>\n",
       "      <td>531476</td>\n",
       "      <td>-1.27023</td>\n",
       "      <td>54.676159</td>\n",
       "      <td>9.355951e+07</td>\n",
       "      <td>71707.407523</td>\n",
       "      <td>[(447213.8995000003, 537036.1042999998), (4472...</td>\n",
       "      <td>Hartlepool</td>\n",
       "      <td>77.4</td>\n",
       "      <td>81.5</td>\n",
       "    </tr>\n",
       "    <tr>\n",
       "      <th>1</th>\n",
       "      <td>2</td>\n",
       "      <td>E06000002</td>\n",
       "      <td>Middlesbrough</td>\n",
       "      <td></td>\n",
       "      <td>451141</td>\n",
       "      <td>516887</td>\n",
       "      <td>-1.21099</td>\n",
       "      <td>54.544670</td>\n",
       "      <td>5.388858e+07</td>\n",
       "      <td>43840.866561</td>\n",
       "      <td>[(448958.9007000001, 521835.6952999998), (4490...</td>\n",
       "      <td>Middlesbrough</td>\n",
       "      <td>76.3</td>\n",
       "      <td>80.2</td>\n",
       "    </tr>\n",
       "  </tbody>\n",
       "</table>\n",
       "</div>"
      ],
      "text/plain": [
       "   objectid    lad17cd        lad17nm lad17nmw   bng_e   bng_n     long  \\\n",
       "0         1  E06000001     Hartlepool           447157  531476 -1.27023   \n",
       "1         2  E06000002  Middlesbrough           451141  516887 -1.21099   \n",
       "\n",
       "         lat    st_areasha    st_lengths  \\\n",
       "0  54.676159  9.355951e+07  71707.407523   \n",
       "1  54.544670  5.388858e+07  43840.866561   \n",
       "\n",
       "                                              coords      Area Name  \\\n",
       "0  [(447213.8995000003, 537036.1042999998), (4472...     Hartlepool   \n",
       "1  [(448958.9007000001, 521835.6952999998), (4490...  Middlesbrough   \n",
       "\n",
       "   Male Life expectancy at birth   Female Life expectancy at birth   \n",
       "0                            77.4                              81.5  \n",
       "1                            76.3                              80.2  "
      ]
     },
     "execution_count": 120,
     "metadata": {},
     "output_type": "execute_result"
    }
   ],
   "source": [
    "combined.head(2)"
   ]
  },
  {
   "cell_type": "code",
   "execution_count": 227,
   "metadata": {},
   "outputs": [],
   "source": [
    "class mapper(): \n",
    "    \n",
    "    def __init__(self, dataframe, data_column=None, default_color = 'r'):\n",
    "        \"\"\"\n",
    "        Initializes the mapper object. \n",
    "        Parameters: \n",
    "        dataframe -- pandas dataframe containing a column names 'coords' for mapping\n",
    "        data_column -- optional, specify which column in the dataframe is used for determining the color\n",
    "        default_color -- default color in which the final map will be rendered. \n",
    "        \n",
    "        \"\"\"\n",
    "        self.df = dataframe\n",
    "        self.data_column = data_column\n",
    "        self.default_color = default_color\n",
    "\n",
    "    def plot_shape(self, id, text=False, color='r', alpha=1):\n",
    "        \"\"\" PLOTS A SINGLE SHAPE FROM A DATAFRAME\"\"\"\n",
    "\n",
    "        shape = self.df.iloc[id]\n",
    "            \n",
    "        x_lon = np.array([x for x, y in shape.coords])\n",
    "        y_lat = np.array([y for x, y in shape.coords])\n",
    "\n",
    "        x_lon = np.reshape(x_lon, (-1, 1))\n",
    "        y_lat = np.reshape(y_lat, (-1, 1))\n",
    "        \n",
    "        plt.fill(x_lon,y_lat, color, alpha=alpha)\n",
    "        \n",
    "        if text: \n",
    "\n",
    "            x0 = np.mean(x_lon)\n",
    "            y0 = np.mean(y_lat)\n",
    "\n",
    "            plt.text(x0, y0, shape['Area Name'], fontsize=12)\n",
    "    \n",
    "    \n",
    "    def calculate_range(self): \n",
    "        data = self.df[self.data_column]\n",
    "        self.data_range = data.max() - data.min()\n",
    "        self.mid_point = data.max() - self.data_range/2\n",
    "        self.first_quartile = self.mid_point-self.data_range/4\n",
    "        self.third_quartile = data.max() - self.data_range/4\n",
    "            \n",
    "    def color_intensity(self, x): \n",
    "        \"\"\" RETURNS A RANGE OF ALPHA VALUES MAPPED TO THE RANGE OF THE DATA\"\"\"\n",
    "\n",
    "        if x == np.nan: \n",
    "            return .01\n",
    "        elif x > self.third_quartile:\n",
    "            return 0.8\n",
    "        elif x > self.mid_point: \n",
    "            return .6\n",
    "        elif x > self.first_quartile:\n",
    "            return .4\n",
    "        return .1\n",
    "        \n",
    "    def print_map(self, title=None, threshold=None, figsize=(8,10), savefig=False): \n",
    "        \"\"\" \n",
    "        add docstring \n",
    "        \"\"\"\n",
    "        self.plt_title = title\n",
    "        self.threshold = threshold\n",
    "        self.savefig = savefig\n",
    "        fig, ax = plt.subplots(figsize=(figsize))\n",
    "        \n",
    "        self.calculate_range()\n",
    "        \n",
    "        for i in tqdm_notebook(range(self.df.shape[0])):\n",
    "            alpha = self.color_intensity(self.df.iloc[i][self.data_column])\n",
    "            if self.df[self.data_column][i] > self.threshold:\n",
    "                self.plot_shape(i, text=True, alpha=alpha, color=self.default_color)       \n",
    "            else: \n",
    "                self.plot_shape(i, alpha=alpha, color=self.default_color)\n",
    "\n",
    "        plt.axis('off')\n",
    "\n",
    "\n",
    "        if self.savefig == True: \n",
    "            plt.savefig('health_map', dpi=200, bbox_inches='tight')\n",
    "\n",
    "        plt.show()"
   ]
  },
  {
   "cell_type": "code",
   "execution_count": 229,
   "metadata": {},
   "outputs": [
    {
     "data": {
      "application/vnd.jupyter.widget-view+json": {
       "model_id": "107925b1e8a84988be65d68a86ad60c4",
       "version_major": 2,
       "version_minor": 0
      },
      "text/plain": [
       "HBox(children=(IntProgress(value=0, max=322), HTML(value='')))"
      ]
     },
     "metadata": {},
     "output_type": "display_data"
    },
    {
     "name": "stdout",
     "output_type": "stream",
     "text": [
      "\n"
     ]
    },
    {
     "data": {
      "image/png": "[encoded data removed]",
      "text/plain": [
       "<Figure size 576x720 with 1 Axes>"
      ]
     },
     "metadata": {
      "needs_background": "light"
     },
     "output_type": "display_data"
    }
   ],
   "source": [
    "mapper = mapper(combined, data_column='Female Life expectancy at birth ', default_color='b')\n",
    "mapper.print_map(threshold=86)"
   ]
  },
  {
   "cell_type": "code",
   "execution_count": null,
   "metadata": {},
   "outputs": [],
   "source": []
  }
 ],
 "metadata": {
  "kernelspec": {
   "display_name": "Python 3",
   "language": "python",
   "name": "python3"
  },
  "language_info": {
   "codemirror_mode": {
    "name": "ipython",
    "version": 3
   },
   "file_extension": ".py",
   "mimetype": "text/x-python",
   "name": "python",
   "nbconvert_exporter": "python",
   "pygments_lexer": "ipython3",
   "version": "3.6.8"
  }
 },
 "nbformat": 4,
 "nbformat_minor": 2
}
